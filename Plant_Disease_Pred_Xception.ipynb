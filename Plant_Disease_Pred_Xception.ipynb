{
  "cells": [
    {
      "cell_type": "code",
      "execution_count": null,
      "metadata": {
        "id": "epNrNL_mpw8Q"
      },
      "outputs": [],
      "source": [
        "import numpy as np\n",
        "import pandas as pd\n",
        "from PIL import Image\n",
        "import cv2 as cv\n",
        "import tensorflow as tf\n",
        "import keras\n",
        "from keras.models import Sequential\n",
        "from keras.layers import Dense, Dropout, Flatten\n",
        "from keras.preprocessing import image\n",
        "from keras.utils import img_to_array\n",
        "from google.colab.patches import cv2_imshow"
      ]
    },
    {
      "cell_type": "code",
      "execution_count": null,
      "metadata": {
        "colab": {
          "base_uri": "https://localhost:8080/"
        },
        "id": "rKxdpWXqp0pm",
        "outputId": "19e5c2b2-889b-457b-8841-23c37acf3b55"
      },
      "outputs": [
        {
          "output_type": "stream",
          "name": "stdout",
          "text": [
            "Mounted at /content/gdrive\n"
          ]
        }
      ],
      "source": [
        "from google.colab import drive\n",
        "drive.mount(\"/content/gdrive\")"
      ]
    },
    {
      "cell_type": "code",
      "execution_count": null,
      "metadata": {
        "id": "OqE96-7Mp6JG"
      },
      "outputs": [],
      "source": [
        "import glob\n",
        "X=[]\n",
        "Y=[]\n",
        "path='/content/gdrive/MyDrive/tomato dataset_f/Tomato___Bacterial_spot/*.*'\n",
        "for file_i in glob.glob(path):\n",
        "  img=cv.imread(file_i)\n",
        "  img=cv.resize(img,(256,256))\n",
        "  img = img_to_array(img)\n",
        "  img = img/255\n",
        "  X.append(img)\n",
        "  Y.append([1,0,0,0,0,0])"
      ]
    },
    {
      "cell_type": "code",
      "execution_count": null,
      "metadata": {
        "id": "DZAmKNq6rczk"
      },
      "outputs": [],
      "source": [
        "path='/content/gdrive/MyDrive/tomato dataset_f/Tomato___Bacterial_spot,Blight/*.*'\n",
        "for file_i in glob.glob(path):\n",
        "  img=cv.imread(file_i)\n",
        "  img=cv.resize(img,(256,256))\n",
        "  img = img_to_array(img)\n",
        "  img = img/255\n",
        "  X.append(img)\n",
        "  Y.append([1,1,0,0,0,0])"
      ]
    },
    {
      "cell_type": "code",
      "execution_count": null,
      "metadata": {
        "id": "nZIvGmtDryBR"
      },
      "outputs": [],
      "source": [
        "path='/content/gdrive/MyDrive/tomato dataset_f/Tomato___Bacterial_spot,nutrition_def/*.*'\n",
        "for file_i in glob.glob(path):\n",
        "  img=cv.imread(file_i)\n",
        "  img=cv.resize(img,(256,256))\n",
        "  img = img_to_array(img)\n",
        "  img = img/255\n",
        "  X.append(img)\n",
        "  Y.append([1,0,0,0,1,0])"
      ]
    },
    {
      "cell_type": "code",
      "execution_count": null,
      "metadata": {
        "id": "VRWNpVbPr64h"
      },
      "outputs": [],
      "source": [
        "path='/content/gdrive/MyDrive/tomato dataset_f/Tomato___Blight/*.*'\n",
        "for file_i in glob.glob(path):\n",
        "  img=cv.imread(file_i)\n",
        "  img=cv.resize(img,(256,256))\n",
        "  img = img_to_array(img)\n",
        "  img = img/255\n",
        "  X.append(img)\n",
        "  Y.append([0,1,0,0,0,0])"
      ]
    },
    {
      "cell_type": "code",
      "execution_count": null,
      "metadata": {
        "id": "gFxjzx8-r76W"
      },
      "outputs": [],
      "source": [
        "path='/content/gdrive/MyDrive/tomato dataset_f/Tomato___Blight,nutrition_def/*.*'\n",
        "for file_i in glob.glob(path):\n",
        "  img=cv.imread(file_i)\n",
        "  img=cv.resize(img,(256,256))\n",
        "  img = img_to_array(img)\n",
        "  img = img/255\n",
        "  X.append(img)\n",
        "  Y.append([0,1,0,0,1,0])"
      ]
    },
    {
      "cell_type": "code",
      "execution_count": null,
      "metadata": {
        "id": "tGMV4RvDsR75"
      },
      "outputs": [],
      "source": [
        "path='/content/gdrive/MyDrive/tomato dataset_f/Tomato___Septoria_leaf_spot/*.*'\n",
        "for file_i in glob.glob(path):\n",
        "  img=cv.imread(file_i)\n",
        "  img=cv.resize(img,(256,256))\n",
        "  img = img_to_array(img)\n",
        "  img = img/255\n",
        "  X.append(img)\n",
        "  Y.append([0,0,1,0,0,0])"
      ]
    },
    {
      "cell_type": "code",
      "execution_count": null,
      "metadata": {
        "id": "0H2iP0MNskFR"
      },
      "outputs": [],
      "source": [
        "path='/content/gdrive/MyDrive/tomato dataset_f/Tomato___Septoria_leaf_spot,nutrition_def/*.*'\n",
        "for file_i in glob.glob(path):\n",
        "  img=cv.imread(file_i)\n",
        "  img=cv.resize(img,(256,256))\n",
        "  img = img_to_array(img)\n",
        "  img = img/255\n",
        "  X.append(img)\n",
        "  Y.append([0,0,1,0,1,0])"
      ]
    },
    {
      "cell_type": "code",
      "execution_count": null,
      "metadata": {
        "id": "m6Dz0Qh9sq1R"
      },
      "outputs": [],
      "source": [
        "path='/content/gdrive/MyDrive/tomato dataset_f/Tomato___mosaic_virus/*.*'\n",
        "for file_i in glob.glob(path):\n",
        "  img=cv.imread(file_i)\n",
        "  img=cv.resize(img,(256,256))\n",
        "  img = img_to_array(img)\n",
        "  img = img/255\n",
        "  X.append(img)\n",
        "  Y.append([0,0,0,1,0,0])"
      ]
    },
    {
      "cell_type": "code",
      "execution_count": null,
      "metadata": {
        "id": "kU18Eb7Qs17R"
      },
      "outputs": [],
      "source": [
        "path='/content/gdrive/MyDrive/tomato dataset_f/Tomato___healthy/*.*'\n",
        "for file_i in glob.glob(path):\n",
        "  img=cv.imread(file_i)\n",
        "  img=cv.resize(img,(256,256))\n",
        "  img = img_to_array(img)\n",
        "  img = img/255\n",
        "  X.append(img)\n",
        "  Y.append([0,0,0,0,0,1])"
      ]
    },
    {
      "cell_type": "code",
      "execution_count": null,
      "metadata": {
        "id": "WZByubp8tCJg"
      },
      "outputs": [],
      "source": [
        "X=np.asarray(X).astype(np.float32)\n",
        "Y=np.asarray(Y).astype(np.float32)"
      ]
    },
    {
      "cell_type": "code",
      "execution_count": null,
      "metadata": {
        "colab": {
          "base_uri": "https://localhost:8080/"
        },
        "id": "vuJNUz2FtPZy",
        "outputId": "3a32295a-9acf-4be3-fd16-8b9a8bbf67b2"
      },
      "outputs": [
        {
          "output_type": "stream",
          "name": "stdout",
          "text": [
            "(3274, 256, 256, 3)\n",
            "(3274, 6)\n"
          ]
        }
      ],
      "source": [
        "print(X.shape)\n",
        "print(Y.shape)"
      ]
    },
    {
      "cell_type": "code",
      "execution_count": null,
      "metadata": {
        "id": "qPTgVi7QtZO6"
      },
      "outputs": [],
      "source": [
        "from sklearn.model_selection import train_test_split\n",
        "X_train, X_test, Y_train, Y_test = train_test_split(X, Y, random_state=6, test_size=0.3)\n",
        "X_Val, X_test, Y_Val, Y_test = train_test_split(X_test, Y_test, random_state=6, test_size=0.5)"
      ]
    },
    {
      "cell_type": "code",
      "execution_count": null,
      "metadata": {
        "colab": {
          "base_uri": "https://localhost:8080/"
        },
        "id": "fIlcxhx54a1R",
        "outputId": "46aeb01e-48d1-4867-e7c3-7805ece32e1a"
      },
      "outputs": [
        {
          "output_type": "stream",
          "name": "stdout",
          "text": [
            "Downloading data from https://storage.googleapis.com/tensorflow/keras-applications/inception_v3/inception_v3_weights_tf_dim_ordering_tf_kernels_notop.h5\n",
            "87910968/87910968 [==============================] - 1s 0us/step\n",
            "Model: \"sequential\"\n",
            "_________________________________________________________________\n",
            " Layer (type)                Output Shape              Param #   \n",
            "=================================================================\n",
            " inception_v3 (Functional)   (None, 6, 6, 2048)        21802784  \n",
            "                                                                 \n",
            " flatten (Flatten)           (None, 73728)             0         \n",
            "                                                                 \n",
            " dense (Dense)               (None, 1024)              75498496  \n",
            "                                                                 \n",
            " dropout (Dropout)           (None, 1024)              0         \n",
            "                                                                 \n",
            " dense_1 (Dense)             (None, 6)                 6150      \n",
            "                                                                 \n",
            "=================================================================\n",
            "Total params: 97,307,430\n",
            "Trainable params: 75,504,646\n",
            "Non-trainable params: 21,802,784\n",
            "_________________________________________________________________\n"
          ]
        }
      ],
      "source": [
        "from keras.applications.inception_v3 import InceptionV3\n",
        "base_model=InceptionV3(input_shape=(256,256,3),include_top=False,weights='imagenet')\n",
        "for layer in base_model.layers:\n",
        "  layer.trainable=False\n",
        "\n",
        "add_model = Sequential()\n",
        "add_model.add(base_model)\n",
        "add_model.add(Flatten())\n",
        "add_model.add(Dense(1024,activation='relu'))\n",
        "add_model.add(Dropout(0.3))\n",
        "add_model.add(Dense(6,activation='sigmoid'))\n",
        "\n",
        "model = add_model\n",
        "model.compile(loss='binary_crossentropy',optimizer='adam',metrics=['accuracy'])\n",
        "model.summary()"
      ]
    },
    {
      "cell_type": "code",
      "execution_count": null,
      "metadata": {
        "colab": {
          "base_uri": "https://localhost:8080/"
        },
        "id": "nWCjc6ts4mgZ",
        "outputId": "c795b771-196f-4edf-e607-e21a99a3d4ab"
      },
      "outputs": [
        {
          "output_type": "stream",
          "name": "stdout",
          "text": [
            "Epoch 1/10\n",
            "72/72 [==============================] - 456s 6s/step - loss: 3.3990 - accuracy: 0.6430 - val_loss: 0.2076 - val_accuracy: 0.8269\n",
            "Epoch 2/10\n",
            "72/72 [==============================] - 456s 6s/step - loss: 0.1599 - accuracy: 0.8621 - val_loss: 0.1783 - val_accuracy: 0.8289\n",
            "Epoch 3/10\n",
            "72/72 [==============================] - 451s 6s/step - loss: 0.0914 - accuracy: 0.9289 - val_loss: 0.1645 - val_accuracy: 0.8758\n",
            "Epoch 4/10\n",
            "72/72 [==============================] - 452s 6s/step - loss: 0.0686 - accuracy: 0.9424 - val_loss: 0.1400 - val_accuracy: 0.8737\n",
            "Epoch 5/10\n",
            "72/72 [==============================] - 447s 6s/step - loss: 0.0432 - accuracy: 0.9616 - val_loss: 0.1334 - val_accuracy: 0.8961\n",
            "Epoch 6/10\n",
            "72/72 [==============================] - 447s 6s/step - loss: 0.0395 - accuracy: 0.9564 - val_loss: 0.1252 - val_accuracy: 0.8880\n",
            "Epoch 7/10\n",
            "72/72 [==============================] - 446s 6s/step - loss: 0.0284 - accuracy: 0.9633 - val_loss: 0.1442 - val_accuracy: 0.8921\n",
            "Epoch 8/10\n",
            "72/72 [==============================] - 453s 6s/step - loss: 0.0244 - accuracy: 0.9651 - val_loss: 0.1571 - val_accuracy: 0.8982\n",
            "Epoch 9/10\n",
            "72/72 [==============================] - 448s 6s/step - loss: 0.0234 - accuracy: 0.9629 - val_loss: 0.1870 - val_accuracy: 0.8493\n",
            "Epoch 10/10\n",
            "72/72 [==============================] - 451s 6s/step - loss: 0.0257 - accuracy: 0.9564 - val_loss: 0.1633 - val_accuracy: 0.8859\n"
          ]
        },
        {
          "output_type": "execute_result",
          "data": {
            "text/plain": [
              "<keras.callbacks.History at 0x7fb632eb2690>"
            ]
          },
          "metadata": {},
          "execution_count": 16
        }
      ],
      "source": [
        "model.fit(X_train, Y_train, batch_size = 32, epochs = 10, verbose = 1, validation_data = (X_Val, Y_Val))"
      ]
    },
    {
      "cell_type": "code",
      "execution_count": null,
      "metadata": {
        "colab": {
          "base_uri": "https://localhost:8080/"
        },
        "id": "B0oqvLYaS0d7",
        "outputId": "c007e2aa-1256-4caf-b918-5e1a2ccd0ab5"
      },
      "outputs": [
        {
          "output_type": "stream",
          "name": "stdout",
          "text": [
            "16/16 [==============================] - 75s 5s/step - loss: 0.2066 - accuracy: 0.8862\n"
          ]
        },
        {
          "output_type": "execute_result",
          "data": {
            "text/plain": [
              "[0.206618994474411, 0.8861788511276245]"
            ]
          },
          "metadata": {},
          "execution_count": 17
        }
      ],
      "source": [
        "model.evaluate(X_test,Y_test)"
      ]
    },
    {
      "cell_type": "code",
      "execution_count": null,
      "metadata": {
        "id": "CzBbnOXWWMfo",
        "colab": {
          "base_uri": "https://localhost:8080/"
        },
        "outputId": "4a5a1707-29d1-4de5-8cb6-7f48cd7a7637"
      },
      "outputs": [
        {
          "output_type": "stream",
          "name": "stdout",
          "text": [
            "103/103 [==============================] - 510s 5s/step\n",
            "[[9.9938786e-01 1.3919969e-03 1.6522875e-04 9.1581576e-08 3.0261115e-05\n",
            "  9.1164489e-09]\n",
            " [9.9456346e-01 9.7346591e-04 1.3390701e-02 8.0049290e-07 1.2722980e-03\n",
            "  1.5383303e-07]\n",
            " [9.8333430e-01 1.1918255e-02 1.5550210e-04 5.3459962e-06 5.4143305e-04\n",
            "  4.3205883e-09]\n",
            " ...\n",
            " [9.1599276e-07 1.6633279e-05 2.2516566e-05 1.8687231e-08 5.7264326e-05\n",
            "  1.0000000e+00]\n",
            " [1.4655242e-06 6.0598075e-04 1.5341693e-03 6.6582859e-04 8.8873255e-04\n",
            "  9.9866611e-01]\n",
            " [8.4914492e-10 1.8788466e-03 8.1304791e-10 6.3632872e-09 5.9428394e-06\n",
            "  9.9999648e-01]]\n"
          ]
        }
      ],
      "source": [
        "Ypred=model.predict(X)\n",
        "print(Ypred)"
      ]
    },
    {
      "cell_type": "code",
      "source": [
        "model.save('/content/gdrive/MyDrive/tomato dataset_f/model_1.h5')"
      ],
      "metadata": {
        "id": "fDQbcQiJaIQ1"
      },
      "execution_count": null,
      "outputs": []
    },
    {
      "cell_type": "code",
      "source": [
        "Ypred=Ypred.round()"
      ],
      "metadata": {
        "id": "D9_eyVqJaVmm"
      },
      "execution_count": null,
      "outputs": []
    },
    {
      "cell_type": "code",
      "source": [
        "print(Ypred)"
      ],
      "metadata": {
        "id": "bs3Jaa1Phs6z",
        "colab": {
          "base_uri": "https://localhost:8080/"
        },
        "outputId": "d13bc129-dabb-43ed-a3f0-a98a1a82069c"
      },
      "execution_count": null,
      "outputs": [
        {
          "output_type": "stream",
          "name": "stdout",
          "text": [
            "[[1. 0. 0. 0. 0. 0.]\n",
            " [1. 0. 0. 0. 0. 0.]\n",
            " [1. 0. 0. 0. 0. 0.]\n",
            " ...\n",
            " [0. 0. 0. 0. 0. 1.]\n",
            " [0. 0. 0. 0. 0. 1.]\n",
            " [0. 0. 0. 0. 0. 1.]]\n"
          ]
        }
      ]
    },
    {
      "cell_type": "code",
      "source": [
        "from sklearn.metrics import classification_report\n",
        "from sklearn.metrics import precision_score\n",
        "from sklearn.metrics import recall_score\n",
        "from sklearn.metrics import f1_score\n",
        "from sklearn.metrics import multilabel_confusion_matrix\n",
        "\n",
        "precision = precision_score(Y, Ypred,average='micro')\n",
        "print('Precision: %f' % precision)\n",
        "# recall: tp / (tp + fn)\n",
        "recall = recall_score(Y, Ypred,average='micro')\n",
        "print('Recall: %f' % recall)\n",
        "# f1: 2 tp / (2 tp + fp + fn)\n",
        "f1 = f1_score(Y, Ypred,average='micro')\n",
        "print('F1 score: %f' % f1)\n",
        "matrix = multilabel_confusion_matrix(Y, Ypred)\n",
        "print(matrix)\n"
      ],
      "metadata": {
        "colab": {
          "base_uri": "https://localhost:8080/"
        },
        "id": "ifmp_vP9hvKc",
        "outputId": "19f2b2f2-57b7-4b77-d4be-4fdeef0a40e1"
      },
      "execution_count": null,
      "outputs": [
        {
          "output_type": "stream",
          "name": "stdout",
          "text": [
            "Precision: 0.966544\n",
            "Recall: 0.940933\n",
            "F1 score: 0.953566\n",
            "[[[2409   21]\n",
            "  [  39  805]]\n",
            "\n",
            " [[2403   52]\n",
            "  [  27  792]]\n",
            "\n",
            " [[2546   18]\n",
            "  [  55  655]]\n",
            "\n",
            " [[2977    3]\n",
            "  [  19  275]]\n",
            "\n",
            " [[2950   12]\n",
            "  [  72  240]]\n",
            "\n",
            " [[2618   12]\n",
            "  [   2  642]]]\n"
          ]
        }
      ]
    },
    {
      "cell_type": "code",
      "source": [
        "cr=classification_report(Y, Ypred,output_dict=False,target_names=['BacSpot', 'Blight', 'Sept','Mossaic','NutriDef','Healthy'])\n",
        "print(cr)"
      ],
      "metadata": {
        "colab": {
          "base_uri": "https://localhost:8080/"
        },
        "id": "TmUPCYnD1J7J",
        "outputId": "d0cb3abc-b0dd-4890-a504-eba3ac1f999a"
      },
      "execution_count": null,
      "outputs": [
        {
          "output_type": "stream",
          "name": "stdout",
          "text": [
            "              precision    recall  f1-score   support\n",
            "\n",
            "     BacSpot       0.97      0.95      0.96       844\n",
            "      Blight       0.94      0.97      0.95       819\n",
            "        Sept       0.97      0.92      0.95       710\n",
            "     Mossaic       0.99      0.94      0.96       294\n",
            "    NutriDef       0.95      0.77      0.85       312\n",
            "     Healthy       0.98      1.00      0.99       644\n",
            "\n",
            "   micro avg       0.97      0.94      0.95      3623\n",
            "   macro avg       0.97      0.92      0.94      3623\n",
            "weighted avg       0.97      0.94      0.95      3623\n",
            " samples avg       0.95      0.95      0.95      3623\n",
            "\n"
          ]
        },
        {
          "output_type": "stream",
          "name": "stderr",
          "text": [
            "/usr/local/lib/python3.7/dist-packages/sklearn/metrics/_classification.py:1318: UndefinedMetricWarning: Precision and F-score are ill-defined and being set to 0.0 in samples with no predicted labels. Use `zero_division` parameter to control this behavior.\n",
            "  _warn_prf(average, modifier, msg_start, len(result))\n"
          ]
        }
      ]
    },
    {
      "cell_type": "code",
      "source": [
        "Y_testpred=model.predict(X_test).round()\n"
      ],
      "metadata": {
        "id": "-GMR3A8Jiacl",
        "colab": {
          "base_uri": "https://localhost:8080/"
        },
        "outputId": "2e8c0112-a30a-4fca-a3ee-af1f8c3fc907"
      },
      "execution_count": null,
      "outputs": [
        {
          "output_type": "stream",
          "name": "stdout",
          "text": [
            "16/16 [==============================] - 77s 5s/step\n"
          ]
        }
      ]
    },
    {
      "cell_type": "code",
      "source": [
        "# precision tp / (tp + fp)\n",
        "precision = precision_score(Y_test, Y_testpred,average='micro')\n",
        "print('Precision: %f' % precision)\n",
        "# recall: tp / (tp + fn)\n",
        "recall = recall_score(Y_test, Y_testpred,average='micro')\n",
        "print('Recall: %f' % recall)\n",
        "# f1: 2 tp / (2 tp + fp + fn)\n",
        "f1 = f1_score(Y_test, Y_testpred,average='micro')\n",
        "print('F1 score: %f' % f1)\n",
        "matrix = multilabel_confusion_matrix(Y_test, Y_testpred)\n",
        "print(matrix)\n",
        "cr=classification_report(Y_test, Y_testpred,output_dict=False,target_names=['BacSpot', 'Blight', 'Sept','Mossaic','NutriDef','Healthy'])\n",
        "print(cr)"
      ],
      "metadata": {
        "colab": {
          "base_uri": "https://localhost:8080/"
        },
        "id": "F239OBuvyuJG",
        "outputId": "3c16292d-7f22-4b8c-e73f-f2d0810f2ad1"
      },
      "execution_count": null,
      "outputs": [
        {
          "output_type": "stream",
          "name": "stdout",
          "text": [
            "Precision: 0.875000\n",
            "Recall: 0.798913\n",
            "F1 score: 0.835227\n",
            "[[[377  11]\n",
            "  [ 20  84]]\n",
            "\n",
            " [[331  31]\n",
            "  [ 12 118]]\n",
            "\n",
            " [[383  11]\n",
            "  [ 25  73]]\n",
            "\n",
            " [[437   1]\n",
            "  [ 10  44]]\n",
            "\n",
            " [[433   4]\n",
            "  [ 42  13]]\n",
            "\n",
            " [[376   5]\n",
            "  [  2 109]]]\n",
            "              precision    recall  f1-score   support\n",
            "\n",
            "     BacSpot       0.97      0.95      0.96       844\n",
            "      Blight       0.94      0.97      0.95       819\n",
            "        Sept       0.97      0.92      0.95       710\n",
            "     Mossaic       0.99      0.94      0.96       294\n",
            "    NutriDef       0.95      0.77      0.85       312\n",
            "     Healthy       0.98      1.00      0.99       644\n",
            "\n",
            "   micro avg       0.97      0.94      0.95      3623\n",
            "   macro avg       0.97      0.92      0.94      3623\n",
            "weighted avg       0.97      0.94      0.95      3623\n",
            " samples avg       0.95      0.95      0.95      3623\n",
            "\n"
          ]
        },
        {
          "output_type": "stream",
          "name": "stderr",
          "text": [
            "/usr/local/lib/python3.7/dist-packages/sklearn/metrics/_classification.py:1318: UndefinedMetricWarning: Precision and F-score are ill-defined and being set to 0.0 in samples with no predicted labels. Use `zero_division` parameter to control this behavior.\n",
            "  _warn_prf(average, modifier, msg_start, len(result))\n"
          ]
        }
      ]
    },
    {
      "cell_type": "code",
      "source": [],
      "metadata": {
        "id": "CRRVh9Ps10Gv"
      },
      "execution_count": null,
      "outputs": []
    }
  ],
  "metadata": {
    "colab": {
      "provenance": []
    },
    "kernelspec": {
      "display_name": "Python 3",
      "name": "python3"
    },
    "language_info": {
      "name": "python"
    }
  },
  "nbformat": 4,
  "nbformat_minor": 0
}