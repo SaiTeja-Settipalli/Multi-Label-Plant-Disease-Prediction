{
  "cells": [
    {
      "cell_type": "code",
      "execution_count": null,
      "metadata": {
        "id": "epNrNL_mpw8Q"
      },
      "outputs": [],
      "source": [
        "import numpy as np\n",
        "import pandas as pd\n",
        "from PIL import Image\n",
        "import cv2 as cv\n",
        "import tensorflow as tf\n",
        "import keras\n",
        "from keras.models import Sequential\n",
        "from keras.layers import Dense, Dropout, Flatten\n",
        "from keras.preprocessing import image\n",
        "from keras.utils import img_to_array\n",
        "from google.colab.patches import cv2_imshow"
      ]
    },
    {
      "cell_type": "code",
      "execution_count": null,
      "metadata": {
        "colab": {
          "base_uri": "https://localhost:8080/"
        },
        "id": "rKxdpWXqp0pm",
        "outputId": "dc4482b4-c927-4eb8-d3fb-7d98b7d9eb62"
      },
      "outputs": [
        {
          "output_type": "stream",
          "name": "stdout",
          "text": [
            "Drive already mounted at /content/gdrive; to attempt to forcibly remount, call drive.mount(\"/content/gdrive\", force_remount=True).\n"
          ]
        }
      ],
      "source": [
        "from google.colab import drive\n",
        "drive.mount(\"/content/gdrive\")"
      ]
    },
    {
      "cell_type": "code",
      "execution_count": null,
      "metadata": {
        "id": "OqE96-7Mp6JG"
      },
      "outputs": [],
      "source": [
        "import glob\n",
        "X=[]\n",
        "Y=[]\n",
        "path='/content/gdrive/MyDrive/tomato dataset_f/Tomato___Bacterial_spot/*.*'\n",
        "for file_i in glob.glob(path):\n",
        "  img=cv.imread(file_i)\n",
        "  img=cv.resize(img,(256,256))\n",
        "  img = img_to_array(img)\n",
        "  img = img/255\n",
        "  X.append(img)\n",
        "  Y.append([1,0,0,0,0,0])"
      ]
    },
    {
      "cell_type": "code",
      "execution_count": null,
      "metadata": {
        "id": "DZAmKNq6rczk"
      },
      "outputs": [],
      "source": [
        "path='/content/gdrive/MyDrive/tomato dataset_f/Tomato___Bacterial_spot,Blight/*.*'\n",
        "for file_i in glob.glob(path):\n",
        "  img=cv.imread(file_i)\n",
        "  img=cv.resize(img,(256,256))\n",
        "  img = img_to_array(img)\n",
        "  img = img/255\n",
        "  X.append(img)\n",
        "  Y.append([1,1,0,0,0,0])"
      ]
    },
    {
      "cell_type": "code",
      "execution_count": null,
      "metadata": {
        "id": "nZIvGmtDryBR"
      },
      "outputs": [],
      "source": [
        "path='/content/gdrive/MyDrive/tomato dataset_f/Tomato___Bacterial_spot,nutrition_def/*.*'\n",
        "for file_i in glob.glob(path):\n",
        "  img=cv.imread(file_i)\n",
        "  img=cv.resize(img,(256,256))\n",
        "  img = img_to_array(img)\n",
        "  img = img/255\n",
        "  X.append(img)\n",
        "  Y.append([1,0,0,0,1,0])"
      ]
    },
    {
      "cell_type": "code",
      "execution_count": null,
      "metadata": {
        "id": "VRWNpVbPr64h"
      },
      "outputs": [],
      "source": [
        "path='/content/gdrive/MyDrive/tomato dataset_f/Tomato___Blight/*.*'\n",
        "for file_i in glob.glob(path):\n",
        "  img=cv.imread(file_i)\n",
        "  img=cv.resize(img,(256,256))\n",
        "  img = img_to_array(img)\n",
        "  img = img/255\n",
        "  X.append(img)\n",
        "  Y.append([0,1,0,0,0,0])"
      ]
    },
    {
      "cell_type": "code",
      "execution_count": null,
      "metadata": {
        "id": "gFxjzx8-r76W"
      },
      "outputs": [],
      "source": [
        "path='/content/gdrive/MyDrive/tomato dataset_f/Tomato___Blight,nutrition_def/*.*'\n",
        "for file_i in glob.glob(path):\n",
        "  img=cv.imread(file_i)\n",
        "  img=cv.resize(img,(256,256))\n",
        "  img = img_to_array(img)\n",
        "  img = img/255\n",
        "  X.append(img)\n",
        "  Y.append([0,1,0,0,1,0])"
      ]
    },
    {
      "cell_type": "code",
      "execution_count": null,
      "metadata": {
        "id": "tGMV4RvDsR75"
      },
      "outputs": [],
      "source": [
        "path='/content/gdrive/MyDrive/tomato dataset_f/Tomato___Septoria_leaf_spot/*.*'\n",
        "for file_i in glob.glob(path):\n",
        "  img=cv.imread(file_i)\n",
        "  img=cv.resize(img,(256,256))\n",
        "  img = img_to_array(img)\n",
        "  img = img/255\n",
        "  X.append(img)\n",
        "  Y.append([0,0,1,0,0,0])"
      ]
    },
    {
      "cell_type": "code",
      "execution_count": null,
      "metadata": {
        "id": "0H2iP0MNskFR"
      },
      "outputs": [],
      "source": [
        "path='/content/gdrive/MyDrive/tomato dataset_f/Tomato___Septoria_leaf_spot,nutrition_def/*.*'\n",
        "for file_i in glob.glob(path):\n",
        "  img=cv.imread(file_i)\n",
        "  img=cv.resize(img,(256,256))\n",
        "  img = img_to_array(img)\n",
        "  img = img/255\n",
        "  X.append(img)\n",
        "  Y.append([0,0,1,0,1,0])"
      ]
    },
    {
      "cell_type": "code",
      "execution_count": null,
      "metadata": {
        "id": "m6Dz0Qh9sq1R"
      },
      "outputs": [],
      "source": [
        "path='/content/gdrive/MyDrive/tomato dataset_f/Tomato___mosaic_virus/*.*'\n",
        "for file_i in glob.glob(path):\n",
        "  img=cv.imread(file_i)\n",
        "  img=cv.resize(img,(256,256))\n",
        "  img = img_to_array(img)\n",
        "  img = img/255\n",
        "  X.append(img)\n",
        "  Y.append([0,0,0,1,0,0])"
      ]
    },
    {
      "cell_type": "code",
      "execution_count": null,
      "metadata": {
        "id": "kU18Eb7Qs17R"
      },
      "outputs": [],
      "source": [
        "path='/content/gdrive/MyDrive/tomato dataset_f/Tomato___healthy/*.*'\n",
        "for file_i in glob.glob(path):\n",
        "  img=cv.imread(file_i)\n",
        "  img=cv.resize(img,(256,256))\n",
        "  img = img_to_array(img)\n",
        "  img = img/255\n",
        "  X.append(img)\n",
        "  Y.append([0,0,0,0,0,1])"
      ]
    },
    {
      "cell_type": "code",
      "execution_count": null,
      "metadata": {
        "id": "WZByubp8tCJg"
      },
      "outputs": [],
      "source": [
        "X=np.asarray(X).astype(np.float32)\n",
        "Y=np.asarray(Y).astype(np.float32)"
      ]
    },
    {
      "cell_type": "code",
      "execution_count": null,
      "metadata": {
        "colab": {
          "base_uri": "https://localhost:8080/"
        },
        "id": "vuJNUz2FtPZy",
        "outputId": "824d152c-e2db-4d7b-eacd-6f9f2d75daad"
      },
      "outputs": [
        {
          "output_type": "stream",
          "name": "stdout",
          "text": [
            "(3274, 256, 256, 3)\n",
            "(3274, 6)\n"
          ]
        }
      ],
      "source": [
        "print(X.shape)\n",
        "print(Y.shape)"
      ]
    },
    {
      "cell_type": "code",
      "execution_count": null,
      "metadata": {
        "id": "qPTgVi7QtZO6"
      },
      "outputs": [],
      "source": [
        "from sklearn.model_selection import train_test_split\n",
        "X_train, X_test, Y_train, Y_test = train_test_split(X, Y, random_state=6, test_size=0.3)\n",
        "X_Val, X_test, Y_Val, Y_test = train_test_split(X_test, Y_test, random_state=6, test_size=0.5)"
      ]
    },
    {
      "cell_type": "code",
      "execution_count": null,
      "metadata": {
        "colab": {
          "base_uri": "https://localhost:8080/"
        },
        "id": "fIlcxhx54a1R",
        "outputId": "8122d5ea-c08f-468e-9648-52119a7afdfb"
      },
      "outputs": [
        {
          "output_type": "stream",
          "name": "stdout",
          "text": [
            "Downloading data from https://storage.googleapis.com/tensorflow/keras-applications/xception/xception_weights_tf_dim_ordering_tf_kernels_notop.h5\n",
            "83683744/83683744 [==============================] - 1s 0us/step\n",
            "Model: \"sequential\"\n",
            "_________________________________________________________________\n",
            " Layer (type)                Output Shape              Param #   \n",
            "=================================================================\n",
            " xception (Functional)       (None, 8, 8, 2048)        20861480  \n",
            "                                                                 \n",
            " flatten (Flatten)           (None, 131072)            0         \n",
            "                                                                 \n",
            " dense (Dense)               (None, 1024)              134218752 \n",
            "                                                                 \n",
            " dropout (Dropout)           (None, 1024)              0         \n",
            "                                                                 \n",
            " dense_1 (Dense)             (None, 6)                 6150      \n",
            "                                                                 \n",
            "=================================================================\n",
            "Total params: 155,086,382\n",
            "Trainable params: 134,224,902\n",
            "Non-trainable params: 20,861,480\n",
            "_________________________________________________________________\n"
          ]
        }
      ],
      "source": [
        "from keras.applications.xception import Xception\n",
        "base_model=Xception(input_shape=(256,256,3),include_top=False,weights='imagenet')\n",
        "for layer in base_model.layers:\n",
        "  layer.trainable=False\n",
        "\n",
        "add_model = Sequential()\n",
        "add_model.add(base_model)\n",
        "add_model.add(Flatten())\n",
        "add_model.add(Dense(1024,activation='relu'))\n",
        "add_model.add(Dropout(0.3))\n",
        "add_model.add(Dense(6,activation='sigmoid'))\n",
        "\n",
        "model = add_model\n",
        "model.compile(loss='binary_crossentropy',optimizer='adam',metrics=['accuracy'])\n",
        "model.summary()"
      ]
    },
    {
      "cell_type": "code",
      "execution_count": null,
      "metadata": {
        "colab": {
          "base_uri": "https://localhost:8080/"
        },
        "id": "nWCjc6ts4mgZ",
        "outputId": "42a68990-b81a-429c-ad74-a64ea6ca6aad"
      },
      "outputs": [
        {
          "output_type": "stream",
          "name": "stdout",
          "text": [
            "Epoch 1/10\n",
            "72/72 [==============================] - 766s 11s/step - loss: 2.3317 - accuracy: 0.7145 - val_loss: 0.1800 - val_accuracy: 0.9002\n",
            "Epoch 2/10\n",
            "72/72 [==============================] - 755s 11s/step - loss: 0.1255 - accuracy: 0.8974 - val_loss: 0.1107 - val_accuracy: 0.9124\n",
            "Epoch 3/10\n",
            "72/72 [==============================] - 756s 11s/step - loss: 0.0703 - accuracy: 0.9476 - val_loss: 0.1007 - val_accuracy: 0.9226\n",
            "Epoch 4/10\n",
            "72/72 [==============================] - 764s 11s/step - loss: 0.0510 - accuracy: 0.9673 - val_loss: 0.1122 - val_accuracy: 0.9185\n",
            "Epoch 5/10\n",
            "72/72 [==============================] - 770s 11s/step - loss: 0.0388 - accuracy: 0.9668 - val_loss: 0.1259 - val_accuracy: 0.8961\n",
            "Epoch 6/10\n",
            "72/72 [==============================] - 775s 11s/step - loss: 0.0328 - accuracy: 0.9708 - val_loss: 0.1053 - val_accuracy: 0.9145\n",
            "Epoch 7/10\n",
            "72/72 [==============================] - 831s 12s/step - loss: 0.0297 - accuracy: 0.9756 - val_loss: 0.1074 - val_accuracy: 0.9145\n",
            "Epoch 8/10\n",
            "72/72 [==============================] - 792s 11s/step - loss: 0.0273 - accuracy: 0.9716 - val_loss: 0.1042 - val_accuracy: 0.9287\n",
            "Epoch 9/10\n",
            "72/72 [==============================] - 791s 11s/step - loss: 0.0259 - accuracy: 0.9756 - val_loss: 0.1258 - val_accuracy: 0.9226\n",
            "Epoch 10/10\n",
            "72/72 [==============================] - 807s 11s/step - loss: 0.0232 - accuracy: 0.9734 - val_loss: 0.1039 - val_accuracy: 0.9348\n"
          ]
        },
        {
          "output_type": "execute_result",
          "data": {
            "text/plain": [
              "<keras.callbacks.History at 0x7f8f0144e9d0>"
            ]
          },
          "metadata": {},
          "execution_count": 20
        }
      ],
      "source": [
        "model.fit(X_train, Y_train, batch_size = 32, epochs = 10, verbose = 1, validation_data = (X_Val, Y_Val))"
      ]
    },
    {
      "cell_type": "code",
      "execution_count": null,
      "metadata": {
        "colab": {
          "base_uri": "https://localhost:8080/"
        },
        "id": "B0oqvLYaS0d7",
        "outputId": "e11dcf93-ce4d-4555-ce5e-eacbb268d6db"
      },
      "outputs": [
        {
          "output_type": "stream",
          "name": "stdout",
          "text": [
            "16/16 [==============================] - 134s 8s/step - loss: 0.1515 - accuracy: 0.9309\n"
          ]
        },
        {
          "output_type": "execute_result",
          "data": {
            "text/plain": [
              "[0.15146589279174805, 0.9308943152427673]"
            ]
          },
          "metadata": {},
          "execution_count": 21
        }
      ],
      "source": [
        "model.evaluate(X_test,Y_test)"
      ]
    },
    {
      "cell_type": "code",
      "execution_count": null,
      "metadata": {
        "id": "CzBbnOXWWMfo"
      },
      "outputs": [],
      "source": [
        "Ypred=model.predict(X)\n",
        "print(Ypred)"
      ]
    },
    {
      "cell_type": "code",
      "source": [
        "model.save('/content/gdrive/MyDrive/tomato dataset_f/model_2.h5')"
      ],
      "metadata": {
        "id": "fDQbcQiJaIQ1"
      },
      "execution_count": null,
      "outputs": []
    },
    {
      "cell_type": "code",
      "source": [
        "Ypred=Ypred.round()"
      ],
      "metadata": {
        "id": "D9_eyVqJaVmm"
      },
      "execution_count": null,
      "outputs": []
    },
    {
      "cell_type": "code",
      "source": [
        "print(Ypred)"
      ],
      "metadata": {
        "id": "bs3Jaa1Phs6z"
      },
      "execution_count": null,
      "outputs": []
    },
    {
      "cell_type": "code",
      "source": [
        "from sklearn.metrics import classification_report\n",
        "from sklearn.metrics import precision_score\n",
        "from sklearn.metrics import recall_score\n",
        "from sklearn.metrics import f1_score\n",
        "from sklearn.metrics import multilabel_confusion_matrix\n",
        "\n",
        "precision = precision_score(Y, Ypred,average='micro')\n",
        "print('Precision: %f' % precision)\n",
        "# recall: tp / (tp + fn)\n",
        "recall = recall_score(Y, Ypred,average='micro')\n",
        "print('Recall: %f' % recall)\n",
        "# f1: 2 tp / (2 tp + fp + fn)\n",
        "f1 = f1_score(Y, Ypred,average='micro')\n",
        "print('F1 score: %f' % f1)\n",
        "matrix = multilabel_confusion_matrix(Y, Ypred)\n",
        "print(matrix)\n"
      ],
      "metadata": {
        "colab": {
          "base_uri": "https://localhost:8080/"
        },
        "id": "ifmp_vP9hvKc",
        "outputId": "0490aea9-e4fe-4f57-8dd2-129643bfa320"
      },
      "execution_count": null,
      "outputs": [
        {
          "output_type": "stream",
          "name": "stdout",
          "text": [
            "Precision: 0.976110\n",
            "Recall: 0.958598\n",
            "F1 score: 0.967275\n",
            "[[[2401   29]\n",
            "  [  22  822]]\n",
            "\n",
            " [[2427   28]\n",
            "  [  16  803]]\n",
            "\n",
            " [[2551   13]\n",
            "  [  34  676]]\n",
            "\n",
            " [[2977    3]\n",
            "  [   2  292]]\n",
            "\n",
            " [[2955    7]\n",
            "  [  73  239]]\n",
            "\n",
            " [[2625    5]\n",
            "  [   3  641]]]\n"
          ]
        },
        {
          "output_type": "stream",
          "name": "stderr",
          "text": [
            "/usr/local/lib/python3.7/dist-packages/sklearn/metrics/_classification.py:1318: UndefinedMetricWarning: Precision and F-score are ill-defined and being set to 0.0 in samples with no predicted labels. Use `zero_division` parameter to control this behavior.\n",
            "  _warn_prf(average, modifier, msg_start, len(result))\n"
          ]
        }
      ]
    },
    {
      "cell_type": "code",
      "source": [
        "cr=classification_report(Y, Ypred,output_dict=False,target_names=['BacSpot', 'Blight', 'Sept','Mossaic','NutriDef','Healthy'])\n",
        "print(cr)"
      ],
      "metadata": {
        "colab": {
          "base_uri": "https://localhost:8080/"
        },
        "id": "TmUPCYnD1J7J",
        "outputId": "3bd51c77-49c6-452d-cadd-6f17d5cf9525"
      },
      "execution_count": null,
      "outputs": [
        {
          "output_type": "stream",
          "name": "stdout",
          "text": [
            "              precision    recall  f1-score   support\n",
            "\n",
            "     BacSpot       0.97      0.97      0.97       844\n",
            "      Blight       0.97      0.98      0.97       819\n",
            "        Sept       0.98      0.95      0.97       710\n",
            "     Mossaic       0.99      0.99      0.99       294\n",
            "    NutriDef       0.97      0.77      0.86       312\n",
            "     Healthy       0.99      1.00      0.99       644\n",
            "\n",
            "   micro avg       0.98      0.96      0.97      3623\n",
            "   macro avg       0.98      0.94      0.96      3623\n",
            "weighted avg       0.98      0.96      0.97      3623\n",
            " samples avg       0.97      0.97      0.97      3623\n",
            "\n"
          ]
        },
        {
          "output_type": "stream",
          "name": "stderr",
          "text": [
            "/usr/local/lib/python3.7/dist-packages/sklearn/metrics/_classification.py:1318: UndefinedMetricWarning: Precision and F-score are ill-defined and being set to 0.0 in samples with no predicted labels. Use `zero_division` parameter to control this behavior.\n",
            "  _warn_prf(average, modifier, msg_start, len(result))\n"
          ]
        }
      ]
    },
    {
      "cell_type": "code",
      "source": [
        "Y_testpred=model.predict(X_test).round()\n"
      ],
      "metadata": {
        "id": "-GMR3A8Jiacl"
      },
      "execution_count": null,
      "outputs": []
    },
    {
      "cell_type": "code",
      "source": [
        "# precision tp / (tp + fp)\n",
        "precision = precision_score(Y_test, Y_testpred,average='micro')\n",
        "print('Precision: %f' % precision)\n",
        "# recall: tp / (tp + fn)\n",
        "recall = recall_score(Y_test, Y_testpred,average='micro')\n",
        "print('Recall: %f' % recall)\n",
        "# f1: 2 tp / (2 tp + fp + fn)\n",
        "f1 = f1_score(Y_test, Y_testpred,average='micro')\n",
        "print('F1 score: %f' % f1)\n",
        "matrix = multilabel_confusion_matrix(Y_test, Y_testpred)\n",
        "print(matrix)\n",
        "cr=classification_report(Y, Ypred,output_dict=False,target_names=['BacSpot', 'Blight', 'Sept','Mossaic','NutriDef','Healthy'])\n",
        "print(cr)"
      ],
      "metadata": {
        "colab": {
          "base_uri": "https://localhost:8080/"
        },
        "id": "F239OBuvyuJG",
        "outputId": "efbda3c4-0345-480b-8e03-540ff230e260"
      },
      "execution_count": null,
      "outputs": [
        {
          "output_type": "stream",
          "name": "stdout",
          "text": [
            "Precision: 0.915058\n",
            "Recall: 0.858696\n",
            "F1 score: 0.885981\n",
            "[[[371  17]\n",
            "  [ 12  92]]\n",
            "\n",
            " [[350  12]\n",
            "  [  8 122]]\n",
            "\n",
            " [[388   6]\n",
            "  [ 14  84]]\n",
            "\n",
            " [[436   2]\n",
            "  [  0  54]]\n",
            "\n",
            " [[434   3]\n",
            "  [ 42  13]]\n",
            "\n",
            " [[377   4]\n",
            "  [  2 109]]]\n",
            "              precision    recall  f1-score   support\n",
            "\n",
            "     BacSpot       0.97      0.97      0.97       844\n",
            "      Blight       0.97      0.98      0.97       819\n",
            "        Sept       0.98      0.95      0.97       710\n",
            "     Mossaic       0.99      0.99      0.99       294\n",
            "    NutriDef       0.97      0.77      0.86       312\n",
            "     Healthy       0.99      1.00      0.99       644\n",
            "\n",
            "   micro avg       0.98      0.96      0.97      3623\n",
            "   macro avg       0.98      0.94      0.96      3623\n",
            "weighted avg       0.98      0.96      0.97      3623\n",
            " samples avg       0.97      0.97      0.97      3623\n",
            "\n"
          ]
        },
        {
          "output_type": "stream",
          "name": "stderr",
          "text": [
            "/usr/local/lib/python3.7/dist-packages/sklearn/metrics/_classification.py:1318: UndefinedMetricWarning: Precision and F-score are ill-defined and being set to 0.0 in samples with no predicted labels. Use `zero_division` parameter to control this behavior.\n",
            "  _warn_prf(average, modifier, msg_start, len(result))\n"
          ]
        }
      ]
    },
    {
      "cell_type": "code",
      "source": [],
      "metadata": {
        "id": "CRRVh9Ps10Gv"
      },
      "execution_count": null,
      "outputs": []
    }
  ],
  "metadata": {
    "colab": {
      "provenance": []
    },
    "kernelspec": {
      "display_name": "Python 3",
      "name": "python3"
    },
    "language_info": {
      "name": "python"
    }
  },
  "nbformat": 4,
  "nbformat_minor": 0
}